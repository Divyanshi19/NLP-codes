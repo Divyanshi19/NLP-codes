{
  "nbformat": 4,
  "nbformat_minor": 0,
  "metadata": {
    "colab": {
      "name": "tokenization.ipynb",
      "provenance": [],
      "authorship_tag": "ABX9TyN4oXo1UZuf9K34q1kUoQit",
      "include_colab_link": true
    },
    "kernelspec": {
      "name": "python3",
      "display_name": "Python 3"
    }
  },
  "cells": [
    {
      "cell_type": "markdown",
      "metadata": {
        "id": "view-in-github",
        "colab_type": "text"
      },
      "source": [
        "<a href=\"https://colab.research.google.com/github/Divyanshi19/NLP-codes/blob/master/tokenization.ipynb\" target=\"_parent\"><img src=\"https://colab.research.google.com/assets/colab-badge.svg\" alt=\"Open In Colab\"/></a>"
      ]
    },
    {
      "cell_type": "code",
      "metadata": {
        "id": "_PTHFyb1piSx",
        "colab_type": "code",
        "colab": {
          "base_uri": "https://localhost:8080/",
          "height": 34
        },
        "outputId": "9e15214a-3376-4a5f-8d5e-5ae885697d9b"
      },
      "source": [
        "text = \"Hello how are you\"\n",
        "print(text.split())"
      ],
      "execution_count": null,
      "outputs": [
        {
          "output_type": "stream",
          "text": [
            "['Hello', 'how', 'are', 'you']\n"
          ],
          "name": "stdout"
        }
      ]
    },
    {
      "cell_type": "code",
      "metadata": {
        "id": "BiL9OvgvqK0T",
        "colab_type": "code",
        "colab": {
          "base_uri": "https://localhost:8080/",
          "height": 34
        },
        "outputId": "d4f49e7d-07ae-4c15-b939-d636f485efb2"
      },
      "source": [
        "text = \"Hello, how are you.\"\n",
        "print(text.split())"
      ],
      "execution_count": null,
      "outputs": [
        {
          "output_type": "stream",
          "text": [
            "['Hello,', 'how', 'are', 'you.']\n"
          ],
          "name": "stdout"
        }
      ]
    },
    {
      "cell_type": "code",
      "metadata": {
        "id": "jLgeMcguri2m",
        "colab_type": "code",
        "colab": {
          "base_uri": "https://localhost:8080/",
          "height": 34
        },
        "outputId": "d9d9f221-73bc-4cbf-b774-1cdc79db015f"
      },
      "source": [
        "text = \"Hello, how , are you.\"\n",
        "print(text.split())"
      ],
      "execution_count": null,
      "outputs": [
        {
          "output_type": "stream",
          "text": [
            "['Hello,', 'how', ',', 'are', 'you.']\n"
          ],
          "name": "stdout"
        }
      ]
    },
    {
      "cell_type": "code",
      "metadata": {
        "id": "3IU6o8qHqfS6",
        "colab_type": "code",
        "colab": {
          "base_uri": "https://localhost:8080/",
          "height": 34
        },
        "outputId": "6bb7bac5-e0ad-40c3-a1a3-f9ee12e7c67c"
      },
      "source": [
        "text = \"Don't go to that place\"\n",
        "print(text.split())"
      ],
      "execution_count": null,
      "outputs": [
        {
          "output_type": "stream",
          "text": [
            "[\"Don't\", 'go', 'to', 'that', 'place']\n"
          ],
          "name": "stdout"
        }
      ]
    },
    {
      "cell_type": "code",
      "metadata": {
        "id": "HwSaqiQWqzuT",
        "colab_type": "code",
        "colab": {}
      },
      "source": [
        "import spacy\n",
        "nlp = spacy.load('en')"
      ],
      "execution_count": 2,
      "outputs": []
    },
    {
      "cell_type": "code",
      "metadata": {
        "id": "mhqrpIvqrA4Q",
        "colab_type": "code",
        "colab": {
          "base_uri": "https://localhost:8080/",
          "height": 119
        },
        "outputId": "0b86ada2-1f8e-403c-dd61-5a4edf25a2a7"
      },
      "source": [
        "doc = nlp(\"This is our first sentence.\")\n",
        "for token in doc:\n",
        "  print(token)\n"
      ],
      "execution_count": null,
      "outputs": [
        {
          "output_type": "stream",
          "text": [
            "This\n",
            "is\n",
            "our\n",
            "first\n",
            "sentence\n",
            ".\n"
          ],
          "name": "stdout"
        }
      ]
    },
    {
      "cell_type": "code",
      "metadata": {
        "id": "XDOzH65ur6kU",
        "colab_type": "code",
        "colab": {
          "base_uri": "https://localhost:8080/",
          "height": 153
        },
        "outputId": "221fc679-8f18-48af-c983-dcfcec6de371"
      },
      "source": [
        "doc = nlp(\"Don't you want to go there?\")\n",
        "for token in doc:\n",
        "  print(token)"
      ],
      "execution_count": null,
      "outputs": [
        {
          "output_type": "stream",
          "text": [
            "Do\n",
            "n't\n",
            "you\n",
            "want\n",
            "to\n",
            "go\n",
            "there\n",
            "?\n"
          ],
          "name": "stdout"
        }
      ]
    },
    {
      "cell_type": "code",
      "metadata": {
        "id": "gL8EVJxUsPOD",
        "colab_type": "code",
        "colab": {
          "base_uri": "https://localhost:8080/",
          "height": 102
        },
        "outputId": "4898893b-f57d-48d6-a1ed-876f4f185934"
      },
      "source": [
        "doc = nlp(\"Let's do this task\")\n",
        "for token in doc:\n",
        "  print(token)"
      ],
      "execution_count": null,
      "outputs": [
        {
          "output_type": "stream",
          "text": [
            "Let\n",
            "'s\n",
            "do\n",
            "this\n",
            "task\n"
          ],
          "name": "stdout"
        }
      ]
    },
    {
      "cell_type": "code",
      "metadata": {
        "id": "iYFdsM4pskP8",
        "colab_type": "code",
        "colab": {
          "base_uri": "https://localhost:8080/",
          "height": 255
        },
        "outputId": "f2d72c04-5e93-4644-c06f-05844b4c51c1"
      },
      "source": [
        "doc = nlp(\"Coffee is strong and great, don't you think so?\")\n",
        "print(f\"Token\\t\\tStopword\".format('Token','Stopword'))\n",
        "print(\"-\"*30)\n",
        "for token in doc:\n",
        "  print(f\"{str(token)}\\t\\t{token.is_stop}\")"
      ],
      "execution_count": null,
      "outputs": [
        {
          "output_type": "stream",
          "text": [
            "Token\t\tStopword\n",
            "------------------------------\n",
            "Coffee\t\tFalse\n",
            "is\t\tTrue\n",
            "strong\t\tFalse\n",
            "and\t\tTrue\n",
            "great\t\tFalse\n",
            ",\t\tFalse\n",
            "do\t\tTrue\n",
            "n't\t\tTrue\n",
            "you\t\tTrue\n",
            "think\t\tFalse\n",
            "so\t\tTrue\n",
            "?\t\tFalse\n"
          ],
          "name": "stdout"
        }
      ]
    },
    {
      "cell_type": "code",
      "metadata": {
        "id": "kXkfuQGDHg6k",
        "colab_type": "code",
        "colab": {
          "base_uri": "https://localhost:8080/",
          "height": 255
        },
        "outputId": "2587445b-b316-41b8-ef6b-69e025d3fe18"
      },
      "source": [
        "doc = nlp(\"Coffee is strong and great, don't you think so?\")\n",
        "print(f\"Token\\t\\tLemma\\t\\tStopword\".format('Token','Lemma','Stopword'))\n",
        "print(\"-\"*40)\n",
        "for token in doc:\n",
        "  print(f\"{str(token)}\\t\\t{token.lemma_}\\t\\t{token.is_stop}\")"
      ],
      "execution_count": 3,
      "outputs": [
        {
          "output_type": "stream",
          "text": [
            "Token\t\tLemma\t\tStopword\n",
            "----------------------------------------\n",
            "Coffee\t\tcoffee\t\tFalse\n",
            "is\t\tbe\t\tTrue\n",
            "strong\t\tstrong\t\tFalse\n",
            "and\t\tand\t\tTrue\n",
            "great\t\tgreat\t\tFalse\n",
            ",\t\t,\t\tFalse\n",
            "do\t\tdo\t\tTrue\n",
            "n't\t\tnot\t\tTrue\n",
            "you\t\t-PRON-\t\tTrue\n",
            "think\t\tthink\t\tFalse\n",
            "so\t\tso\t\tTrue\n",
            "?\t\t?\t\tFalse\n"
          ],
          "name": "stdout"
        }
      ]
    }
  ]
}