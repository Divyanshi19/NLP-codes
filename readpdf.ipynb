In [1]:
!pip install PyPDF2
Collecting PyPDF2
  Downloading https://files.pythonhosted.org/packages/b4/01/68fcc0d43daf4c6bdbc6b33cc3f77bda531c86b174cac56ef0ffdb96faab/PyPDF2-1.26.0.tar.gz (77kB)
     |████████████████████████████████| 81kB 2.2MB/s 
Building wheels for collected packages: PyPDF2
  Building wheel for PyPDF2 (setup.py) ... done
  Created wheel for PyPDF2: filename=PyPDF2-1.26.0-cp36-none-any.whl size=61086 sha256=8ce395dce8635f554a40306bd0eb823c0d933c894eead848e275be592dbe2bb9
  Stored in directory: /root/.cache/pip/wheels/53/84/19/35bc977c8bf5f0c23a8a011aa958acd4da4bbd7a229315c1b7
Successfully built PyPDF2
Installing collected packages: PyPDF2
Successfully installed PyPDF2-1.26.0
In [2]:
import PyPDF2
from PyPDF2 import PdfFileReader
In [3]:
pdf = open("HO - Microprogrammed Control (6).pdf", "rb")
In [4]:
pdf_reader = PyPDF2.PdfFileReader(pdf)
In [5]:
print(pdf_reader.numPages)
6
In [6]:
page = pdf_reader.getPage(0)
In [7]:
print(page.extractText())

